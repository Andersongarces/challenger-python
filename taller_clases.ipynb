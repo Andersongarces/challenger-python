{
  "nbformat": 4,
  "nbformat_minor": 0,
  "metadata": {
    "colab": {
      "provenance": [],
      "authorship_tag": "ABX9TyOFRkbTo346kGqxO9SZEzMY",
      "include_colab_link": true
    },
    "kernelspec": {
      "name": "python3",
      "display_name": "Python 3"
    },
    "language_info": {
      "name": "python"
    }
  },
  "cells": [
    {
      "cell_type": "markdown",
      "metadata": {
        "id": "view-in-github",
        "colab_type": "text"
      },
      "source": [
        "<a href=\"https://colab.research.google.com/github/Andersongarces/challenger-python/blob/main/taller_clases.ipynb\" target=\"_parent\"><img src=\"https://colab.research.google.com/assets/colab-badge.svg\" alt=\"Open In Colab\"/></a>"
      ]
    },
    {
      "cell_type": "markdown",
      "source": [
        "![Nómina de personal](data:image/jpeg;base64,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)  "
      ],
      "metadata": {
        "id": "WbUimWRDuXDz"
      }
    },
    {
      "cell_type": "markdown",
      "source": [
        "# Taller\n",
        "\n",
        "- [x] Cargar una imagen de portada\n",
        "- [x] Crear una lista con nueve datos, contando el item 0, el cual debe contener valores de tipo str, int y float\n",
        "- [ ] Encontrar el valor intermedio\n",
        "- [ ] Encontrar los tres primeros valores\n",
        "- [ ] Encontrar los tres últimos valores\n",
        "- [ ] Cambiar el valor penúltimo por un valor str (cualquiera)\n",
        "- [ ] Añadir dos valores más a la lista"
      ],
      "metadata": {
        "id": "Ulzreg5CYdoE"
      }
    },
    {
      "cell_type": "markdown",
      "source": [
        "# Crear una lista con nueve datos, el cual debe contener valores de tipo str, int y float"
      ],
      "metadata": {
        "id": "koWngu0GvR07"
      }
    },
    {
      "cell_type": "markdown",
      "source": [
        "# Sección nueva"
      ],
      "metadata": {
        "id": "1vNEz9P8vSLH"
      }
    },
    {
      "cell_type": "markdown",
      "source": [
        "Crear una lista con nueve datos, el cual debe contener valores de tipo str, int y float"
      ],
      "metadata": {
        "id": "pYaXAgjNu_yE"
      }
    },
    {
      "cell_type": "code",
      "source": [
        "nomina = ['Bonifacio', 'Pancrasio', 'Rosa Melano' ]\n",
        "item = input('Ingrese el nombre a buscar: ')\n",
        "if item in nomina:\n",
        "  print(f'El señor/a {item} si se encuentra el la nómina')"
      ],
      "metadata": {
        "id": "_ldiovqMvBq_",
        "colab": {
          "base_uri": "https://localhost:8080/"
        },
        "outputId": "d53c8cc8-ecb8-424f-9ba6-c0e1d9a8b25a"
      },
      "execution_count": null,
      "outputs": [
        {
          "output_type": "stream",
          "name": "stdout",
          "text": [
            "Ingrese el nombre a buscar: Bonifacio\n",
            "El señor/a Bonifacio si se encuentra el la nómina\n"
          ]
        }
      ]
    },
    {
      "cell_type": "markdown",
      "source": [
        "Encontrar el valor intermedio"
      ],
      "metadata": {
        "id": "HMFB-PegvGUy"
      }
    }
  ]
}